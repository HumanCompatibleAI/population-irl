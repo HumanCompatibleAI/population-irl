{
 "cells": [
  {
   "cell_type": "markdown",
   "metadata": {},
   "source": [
    "# Setup"
   ]
  },
  {
   "cell_type": "code",
   "execution_count": 1,
   "metadata": {},
   "outputs": [],
   "source": [
    "# Imports\n",
    "import os\n",
    "import os.path as osp\n",
    "\n",
    "import joblib\n",
    "import numpy as np\n",
    "import gym\n",
    "import pandas as pd\n",
    "import matplotlib.pyplot as plt\n",
    "\n",
    "import pirl\n",
    "from pirl import config, experiments\n",
    "\n",
    "from analysis import common"
   ]
  },
  {
   "cell_type": "code",
   "execution_count": 50,
   "metadata": {},
   "outputs": [],
   "source": [
    "# Config\n",
    "experiment_dirs = ['../data/experiments/mountain-car-color-metalearn-20180706_130745-d25020c6f85e7b10775b5e3972eacceebfe9b6af/']"
   ]
  },
  {
   "cell_type": "markdown",
   "metadata": {},
   "source": [
    "# Value difference"
   ]
  },
  {
   "cell_type": "code",
   "execution_count": 29,
   "metadata": {},
   "outputs": [],
   "source": [
    "algo_pattern = '(.*)'\n",
    "env_pattern = '(.*)'\n",
    "dfs = [common.load_value(x, algo_pattern, env_pattern)\n",
    "       for x in experiment_dirs]\n",
    "df = pd.concat(dfs, axis=0)\n",
    "values = common.aggregate_value(df)\n",
    "ci = common.plot_ci(values)"
   ]
  },
  {
   "cell_type": "code",
   "execution_count": 53,
   "metadata": {},
   "outputs": [
    {
     "data": {
      "text/html": [
       "<div>\n",
       "<style scoped>\n",
       "    .dataframe tbody tr th:only-of-type {\n",
       "        vertical-align: middle;\n",
       "    }\n",
       "\n",
       "    .dataframe tbody tr th {\n",
       "        vertical-align: top;\n",
       "    }\n",
       "\n",
       "    .dataframe thead th {\n",
       "        text-align: right;\n",
       "    }\n",
       "</style>\n",
       "<table border=\"1\" class=\"dataframe\">\n",
       "  <thead>\n",
       "    <tr style=\"text-align: right;\">\n",
       "      <th></th>\n",
       "      <th></th>\n",
       "      <th></th>\n",
       "      <th></th>\n",
       "      <th>airl random short</th>\n",
       "      <th>airl sa short</th>\n",
       "      <th>airl so short</th>\n",
       "      <th>airlp random short</th>\n",
       "      <th>airlp so separate short</th>\n",
       "      <th>ppo cts short</th>\n",
       "      <th>expert</th>\n",
       "    </tr>\n",
       "    <tr>\n",
       "      <th>env</th>\n",
       "      <th>n</th>\n",
       "      <th>m</th>\n",
       "      <th>eval</th>\n",
       "      <th></th>\n",
       "      <th></th>\n",
       "      <th></th>\n",
       "      <th></th>\n",
       "      <th></th>\n",
       "      <th></th>\n",
       "      <th></th>\n",
       "    </tr>\n",
       "  </thead>\n",
       "  <tbody>\n",
       "    <tr>\n",
       "      <th rowspan=\"6\" valign=\"top\">pirl/MountainCarContinuous-2-blue-0-0.05-v0</th>\n",
       "      <th rowspan=\"6\" valign=\"top\">100</th>\n",
       "      <th rowspan=\"2\" valign=\"top\">1</th>\n",
       "      <th>irl</th>\n",
       "      <td>-493.75</td>\n",
       "      <td>61.56</td>\n",
       "      <td>34.59</td>\n",
       "      <td>16.07</td>\n",
       "      <td>20.79</td>\n",
       "      <td>94.30</td>\n",
       "      <td>94.30</td>\n",
       "    </tr>\n",
       "    <tr>\n",
       "      <th>ppo_cts_short</th>\n",
       "      <td>42.23</td>\n",
       "      <td>-417.63</td>\n",
       "      <td>23.00</td>\n",
       "      <td>74.86</td>\n",
       "      <td>17.32</td>\n",
       "      <td>94.30</td>\n",
       "      <td>94.30</td>\n",
       "    </tr>\n",
       "    <tr>\n",
       "      <th rowspan=\"2\" valign=\"top\">5</th>\n",
       "      <th>irl</th>\n",
       "      <td>-479.76</td>\n",
       "      <td>37.83</td>\n",
       "      <td>37.39</td>\n",
       "      <td>9.19</td>\n",
       "      <td>34.40</td>\n",
       "      <td>94.30</td>\n",
       "      <td>94.30</td>\n",
       "    </tr>\n",
       "    <tr>\n",
       "      <th>ppo_cts_short</th>\n",
       "      <td>52.15</td>\n",
       "      <td>-4141.52</td>\n",
       "      <td>76.86</td>\n",
       "      <td>-1.13</td>\n",
       "      <td>15.66</td>\n",
       "      <td>94.30</td>\n",
       "      <td>94.30</td>\n",
       "    </tr>\n",
       "    <tr>\n",
       "      <th rowspan=\"2\" valign=\"top\">100</th>\n",
       "      <th>irl</th>\n",
       "      <td>-481.99</td>\n",
       "      <td>28.02</td>\n",
       "      <td>67.96</td>\n",
       "      <td>25.01</td>\n",
       "      <td>-3.75</td>\n",
       "      <td>94.30</td>\n",
       "      <td>94.30</td>\n",
       "    </tr>\n",
       "    <tr>\n",
       "      <th>ppo_cts_short</th>\n",
       "      <td>60.73</td>\n",
       "      <td>-2438.11</td>\n",
       "      <td>68.63</td>\n",
       "      <td>17.28</td>\n",
       "      <td>33.95</td>\n",
       "      <td>94.30</td>\n",
       "      <td>94.30</td>\n",
       "    </tr>\n",
       "    <tr>\n",
       "      <th rowspan=\"6\" valign=\"top\">pirl/MountainCarContinuous-2-red-0-0.05-v0</th>\n",
       "      <th rowspan=\"6\" valign=\"top\">100</th>\n",
       "      <th rowspan=\"2\" valign=\"top\">1</th>\n",
       "      <th>irl</th>\n",
       "      <td>-488.65</td>\n",
       "      <td>56.36</td>\n",
       "      <td>16.63</td>\n",
       "      <td>-17.95</td>\n",
       "      <td>-37.45</td>\n",
       "      <td>93.79</td>\n",
       "      <td>93.79</td>\n",
       "    </tr>\n",
       "    <tr>\n",
       "      <th>ppo_cts_short</th>\n",
       "      <td>26.31</td>\n",
       "      <td>-109.39</td>\n",
       "      <td>80.07</td>\n",
       "      <td>9.31</td>\n",
       "      <td>11.93</td>\n",
       "      <td>93.79</td>\n",
       "      <td>93.79</td>\n",
       "    </tr>\n",
       "    <tr>\n",
       "      <th rowspan=\"2\" valign=\"top\">5</th>\n",
       "      <th>irl</th>\n",
       "      <td>-507.17</td>\n",
       "      <td>2.75</td>\n",
       "      <td>-20.80</td>\n",
       "      <td>0.25</td>\n",
       "      <td>-0.89</td>\n",
       "      <td>93.79</td>\n",
       "      <td>93.79</td>\n",
       "    </tr>\n",
       "    <tr>\n",
       "      <th>ppo_cts_short</th>\n",
       "      <td>-2.93</td>\n",
       "      <td>-1164.79</td>\n",
       "      <td>20.42</td>\n",
       "      <td>22.35</td>\n",
       "      <td>16.71</td>\n",
       "      <td>93.79</td>\n",
       "      <td>93.79</td>\n",
       "    </tr>\n",
       "    <tr>\n",
       "      <th rowspan=\"2\" valign=\"top\">100</th>\n",
       "      <th>irl</th>\n",
       "      <td>-486.35</td>\n",
       "      <td>11.12</td>\n",
       "      <td>4.14</td>\n",
       "      <td>59.52</td>\n",
       "      <td>-14.10</td>\n",
       "      <td>93.79</td>\n",
       "      <td>93.79</td>\n",
       "    </tr>\n",
       "    <tr>\n",
       "      <th>ppo_cts_short</th>\n",
       "      <td>35.91</td>\n",
       "      <td>-3519.91</td>\n",
       "      <td>77.08</td>\n",
       "      <td>39.17</td>\n",
       "      <td>31.16</td>\n",
       "      <td>93.79</td>\n",
       "      <td>93.79</td>\n",
       "    </tr>\n",
       "  </tbody>\n",
       "</table>\n",
       "</div>"
      ],
      "text/plain": [
       "                                                                   airl random short  airl sa short  airl so short  airlp random short  airlp so separate short  ppo cts short  expert\n",
       "env                                         n   m   eval                                                                                                                              \n",
       "pirl/MountainCarContinuous-2-blue-0-0.05-v0 100 1   irl                      -493.75          61.56          34.59               16.07                    20.79          94.30   94.30\n",
       "                                                    ppo_cts_short              42.23        -417.63          23.00               74.86                    17.32          94.30   94.30\n",
       "                                                5   irl                      -479.76          37.83          37.39                9.19                    34.40          94.30   94.30\n",
       "                                                    ppo_cts_short              52.15       -4141.52          76.86               -1.13                    15.66          94.30   94.30\n",
       "                                                100 irl                      -481.99          28.02          67.96               25.01                    -3.75          94.30   94.30\n",
       "                                                    ppo_cts_short              60.73       -2438.11          68.63               17.28                    33.95          94.30   94.30\n",
       "pirl/MountainCarContinuous-2-red-0-0.05-v0  100 1   irl                      -488.65          56.36          16.63              -17.95                   -37.45          93.79   93.79\n",
       "                                                    ppo_cts_short              26.31        -109.39          80.07                9.31                    11.93          93.79   93.79\n",
       "                                                5   irl                      -507.17           2.75         -20.80                0.25                    -0.89          93.79   93.79\n",
       "                                                    ppo_cts_short              -2.93       -1164.79          20.42               22.35                    16.71          93.79   93.79\n",
       "                                                100 irl                      -486.35          11.12           4.14               59.52                   -14.10          93.79   93.79\n",
       "                                                    ppo_cts_short              35.91       -3519.91          77.08               39.17                    31.16          93.79   93.79"
      ]
     },
     "execution_count": 53,
     "metadata": {},
     "output_type": "execute_result"
    }
   ],
   "source": [
    "idx = (df.index.get_level_values('seed') <= 4) & (df.index.get_level_values('m').isin([1,5,100]))\n",
    "df.loc[idx].xs('mean', level='type').groupby(['env', 'n', 'm', 'eval']).max()"
   ]
  },
  {
   "cell_type": "markdown",
   "metadata": {},
   "source": [
    "# Figures"
   ]
  },
  {
   "cell_type": "code",
   "execution_count": 48,
   "metadata": {},
   "outputs": [],
   "source": [
    "import collections\n",
    "\n",
    "pretty_envs = {\n",
    "    'pirl/MountainCarContinuous-2-red-0-0.05-v0': 'Red',\n",
    "    'pirl/MountainCarContinuous-2-blue-0-0.05-v0': 'Blue',\n",
    "}\n",
    "\n",
    "pretty_algos = collections.OrderedDict([\n",
    "    ('airl random short', 'SR'),\n",
    "    ('airl so short', 'SP'),\n",
    "    ('airlp random short', 'MR'),\n",
    "    ('airlp so separate short', 'MP'),\n",
    "    ('ppo cts short', 'PPO'),\n",
    "])\n",
    "\n",
    "pretty_eval = {\n",
    "    'irl': 'IRL',\n",
    "    'ppo_cts_short': 'Reoptimized',\n",
    "}\n",
    "\n",
    "eval_algos = {\n",
    "    'IRL': ['SP', 'MR', 'MP', 'PPO'],\n",
    "    'Reoptimized': ['SR', 'SP', 'MR', 'MP', 'PPO'],\n",
    "}\n",
    "\n",
    "best_of_seeds = 5\n",
    "ms = [1, 5, 100]\n",
    "\n",
    "figs_dir = osp.join('../../population-irl-paper', 'figs')"
   ]
  },
  {
   "cell_type": "code",
   "execution_count": 52,
   "metadata": {},
   "outputs": [
    {
     "name": "stdout",
     "output_type": "stream",
     "text": [
      "                              SR     SP     MR     MP    PPO\n",
      "env  m   eval        type                                   \n",
      "Blue 1   IRL         mean    NaN  34.59  16.07  20.79  94.30\n",
      "                     se      NaN  10.01   9.89  10.45   3.93\n",
      "     5   IRL         mean    NaN  37.39   9.19  34.40  94.30\n",
      "                     se      NaN  10.05  10.21  10.99   3.93\n",
      "     100 IRL         mean    NaN  67.96  25.01  -3.75  94.30\n",
      "                     se      NaN   9.63   9.94  42.33   3.93\n",
      "Red  1   IRL         mean    NaN  16.63 -17.95 -37.45  93.79\n",
      "                     se      NaN   9.56   9.61  11.80   0.09\n",
      "     5   IRL         mean    NaN -20.80   0.25  -0.89  93.79\n",
      "                     se      NaN  10.36  10.58  10.21   0.09\n",
      "     100 IRL         mean    NaN   4.14  59.52 -14.10  93.79\n",
      "                     se      NaN  10.03  10.19  10.82   0.09\n",
      "Blue 1   Reoptimized mean  42.23  23.00  74.86  17.32  94.30\n",
      "                     se    10.03  17.17  10.07   9.99   3.93\n",
      "     5   Reoptimized mean  52.15  76.86  -1.13  15.66  94.30\n",
      "                     se    10.11  10.10  10.08  10.08   3.93\n",
      "     100 Reoptimized mean  60.73  68.63  17.28  33.95  94.30\n",
      "                     se    10.03  10.18  10.18  10.03   3.93\n",
      "Red  1   Reoptimized mean  26.31  80.07   9.31  11.93  93.79\n",
      "                     se    10.01  10.52  10.07  10.06   0.09\n",
      "     5   Reoptimized mean  -2.93  20.42  22.35  16.71  93.79\n",
      "                     se    10.07  10.18  10.05   9.96   0.09\n",
      "     100 Reoptimized mean  35.91  77.08  39.17  31.16  93.79\n",
      "                     se    10.05   9.93  10.07  10.07   0.09\n"
     ]
    },
    {
     "data": {
      "image/png": "[encoded data removed]",
      "text/plain": [
       "<Figure size 486x162 with 2 Axes>"
      ]
     },
     "metadata": {},
     "output_type": "display_data"
    },
    {
     "data": {
      "image/png": "[encoded data removed]",
      "text/plain": [
       "<Figure size 486x162 with 2 Axes>"
      ]
     },
     "metadata": {},
     "output_type": "display_data"
    }
   ],
   "source": [
    "# Filter\n",
    "idx = ((df.index.get_level_values('seed') < best_of_seeds) & \n",
    "       (df.index.get_level_values('m').isin(ms)))\n",
    "val = df.loc[idx]\n",
    "# Take maximum across seeds\n",
    "val = val.stack().unstack('seed').max(axis=1).unstack(-1)\n",
    "# n should be fixed, get rid of it\n",
    "val.index = val.index.droplevel('n')\n",
    "assert val.index.is_unique\n",
    "\n",
    "val = val.rename(columns=pretty_algos).loc[:, list(pretty_algos.values())]\n",
    "val = val.rename(index=pretty_envs, level=0).loc[list(pretty_envs.values()), :]\n",
    "val = val.rename(index=pretty_eval, level='eval')\n",
    "\n",
    "with plt.style.context([common.style('default'), common.style('twocol')]):\n",
    "    xs = []\n",
    "    for eval_type, algos in eval_algos.items():\n",
    "        xs.append(val.loc[val.index.get_level_values('eval') == eval_type, algos])\n",
    "    subset = pd.concat(xs, sort=False).loc[:, list(pretty_algos.values())]\n",
    "    print(subset)\n",
    "    for env in pretty_envs.values():\n",
    "        y = subset.xs(env, level='env')\n",
    "        fig = common.value_multi_bar_chart(y, level='eval', relative='PPO', \n",
    "                                           whisker_lw=0)\n",
    "        out_path = osp.join(figs_dir, 'mountaincar', 'color_{}.pdf'.format(env))\n",
    "        fig.savefig(out_path, bbox_inches='tight')"
   ]
  },
  {
   "cell_type": "markdown",
   "metadata": {},
   "source": [
    "# Policy rollout"
   ]
  },
  {
   "cell_type": "code",
   "execution_count": null,
   "metadata": {},
   "outputs": [],
   "source": [
    "def expert_cached_value(rl, env_name, pol_discount=0.99, eval_discount=1.00, seed=1234, episodes=100):\n",
    "    '''Rollout a cached expert policy for episodes.\n",
    "       WARNING: This will be slow or just break if policy is not in cache!'''\n",
    "    gen_policy, _sample, compute_value = config.RL_ALGORITHMS[rl]\n",
    "    policy, value = experiments._train_policy(rl, pol_discount, env_name, seed, None)\n",
    "    vmean, vse = value\n",
    "    print('Cached value: {:.3f} +/- {:.3f}'.format(vmean, 1.96 * vse))\n",
    "    \n",
    "    env = gym.make(env_name)\n",
    "    rmean, rse = compute_value(env, policy, eval_discount, num_episodes=episodes, seed=seed)\n",
    "    print('Rollout value: {:.3f} +/- {:.3f}'.format(rmean, 1.96 * rse))\n",
    "    return (vmean, vse), (rmean, rse)\n",
    "\n",
    "def _policy_value(results_dir, rl, env_name, pol_discount, eval_discount, episodes, seed):\n",
    "    _gen_policy, _sample, compute_value = config.RL_ALGORITHMS[rl]\n",
    "    fname = osp.join(results_dir, 'policy.pkl')\n",
    "    print('Loading policy from ', fname)\n",
    "    policy = joblib.load(fname)\n",
    "    env = gym.make(env_name)\n",
    "    \n",
    "    mean, se = compute_value(env, policy, eval_discount, num_episodes=episodes, seed=seed)\n",
    "    print('Rollout value: {:.3f} +/- {:.3f}'.format(mean, 1.96 * se))\n",
    "    return mean, se\n",
    "\n",
    "def expert_value(experiment_dir, rl, env_name, pol_discount=0.99, eval_discount=1.00, episodes=100, seed=1234):\n",
    "    results_dir = osp.join(experiment_dir, 'expert', env_name, rl)\n",
    "    return _policy_value(results_dir, rl, env_name, pol_discount, eval_discount, episodes, seed)\n",
    "\n",
    "def irl_eval_value(experiment_dir, irl_name, num_traj, rl, env_name, pol_discount=0.99, eval_discount=1.00, episodes=100, seed=1234):\n",
    "    results_dir = osp.join(experiment_dir, 'eval', env_name, \n",
    "                           '{}:{}:{}'.format(irl_name, num_traj, num_traj), rl)\n",
    "    return _policy_value(results_dir, rl, env_name, pol_discount, eval_discount, episodes, seed)\n",
    "    \n",
    "def irl_value(experiment_dir, irl_name, env_name, num_traj, eval_discount=1.00, episodes=100):\n",
    "    _irl_algo, _reward_wrapper, compute_value = experiments.make_irl_algo(irl_name)\n",
    "    irl_dir = osp.join(experiment_dir, 'irl', irl_name)\n",
    "    if not os.path.exists(irl_dir):\n",
    "        raise FileNotFoundError(\"No result directory {}\".format(irl_dir))\n",
    "    \n",
    "    pop_fname = osp.join(irl_dir, str(num_traj), 'policies.pkl')\n",
    "    sin_fname = osp.join(irl_dir, env_name, str(num_traj), 'policy.pkl')\n",
    "    if os.path.exists(pop_fname):\n",
    "        policies = joblib.load(pop_fname)\n",
    "        print(policies.keys())\n",
    "        policy = policies[env_name]\n",
    "    elif os.path.exists(sin_fname):\n",
    "        policy = joblib.load(sin_fname)\n",
    "    else:\n",
    "        raise FileNotFoundError(\"Neither {} or {} exists\".format(pop_fname, sin_fname))\n",
    "    \n",
    "    env = gym.make(env_name)\n",
    "    mean, se = compute_value(env, policy, discount=eval_discount, num_episodes=episodes)\n",
    "    print('Rollout value: {} +/- {}'.format(mean, 1.96 * se))"
   ]
  },
  {
   "cell_type": "code",
   "execution_count": null,
   "metadata": {},
   "outputs": [],
   "source": [
    "expert_cached_value('ppo_cts', 'Reacher-v2', episodes=100)"
   ]
  },
  {
   "cell_type": "code",
   "execution_count": null,
   "metadata": {},
   "outputs": [],
   "source": [
    "expert_value(experiment_dir, 'ppo_cts', 'Reacher-v2', episodes=500, seed=1234)"
   ]
  },
  {
   "cell_type": "code",
   "execution_count": null,
   "metadata": {},
   "outputs": [],
   "source": [
    "irl_value(experiment_dir, 'airl', 'Reacher-v2', 1000, episodes=100)"
   ]
  },
  {
   "cell_type": "markdown",
   "metadata": {},
   "source": [
    "# Visualizing rewards (gridworld only)"
   ]
  },
  {
   "cell_type": "code",
   "execution_count": null,
   "metadata": {},
   "outputs": [],
   "source": [
    "def show_heatmaps(irl_algo, kind='inline', out_dir=None, shape=(9,9), **kwargs):\n",
    "    data = pd.read_pickle(osp.join(experiment_dir, 'results.pkl'))\n",
    "    rewards = data['rewards'][irl_algo]\n",
    "    if kind in ['inline', 'pdf']:\n",
    "        figs = common.gridworld_heatmap(rewards, shape)\n",
    "        if out_dir is None:\n",
    "            for fig in figs:\n",
    "                display(fig[1])\n",
    "        else:\n",
    "            common.save_figs(figs, out_dir)\n",
    "    elif kind == 'movie':\n",
    "        common.gridworld_heatmap_movie(out_dir, rewards, shape)\n",
    "    else:\n",
    "        assert False"
   ]
  },
  {
   "cell_type": "code",
   "execution_count": null,
   "metadata": {},
   "outputs": [],
   "source": [
    "irl_algos = ['mce', 'mcep_reg1e0']\n",
    "for irl in irl_algos:\n",
    "    show_heatmaps(irl, kind='inline', shape=(4,4))\n",
    "    #show_heatmaps(irl, kind='movie', out_dir='figs/jungle/movies/' + irl)\n",
    "    #show_heatmaps(irl, kind='movie', out_dir='figs/jungle/' + irl)"
   ]
  },
  {
   "cell_type": "markdown",
   "metadata": {},
   "source": [
    "# Loss curve (PPO only)"
   ]
  },
  {
   "cell_type": "code",
   "execution_count": null,
   "metadata": {},
   "outputs": [],
   "source": [
    "def ppo_progress(results_dir):\n",
    "    path = osp.join(results_dir, 'progress.csv')\n",
    "    df = pd.read_csv(path)\n",
    "    df = df.set_index('serial_timesteps')\n",
    "    return df\n",
    "\n",
    "def expert_ppo_progress(experiment_dir, env_name, rl_name):\n",
    "    results_dir = osp.join(experiment_dir, 'expert', \n",
    "                       experiments.sanitize_env_name(env_name),\n",
    "                       rl_name)\n",
    "    return ppo_progress(results_dir)"
   ]
  },
  {
   "cell_type": "code",
   "execution_count": null,
   "metadata": {},
   "outputs": [],
   "source": [
    "envs = ['InvertedPendulum-v2', 'InvertedDoublePendulum-v2', 'Reacher-v2']\n",
    "for env in envs:\n",
    "    df = expert_ppo_progress(experiment_dir, env, 'ppo_cts')\n",
    "    plt.figure()\n",
    "    df['eprewmean'].plot()\n",
    "    print(df['eprewmean'].max())\n",
    "    plt.title(env)"
   ]
  },
  {
   "cell_type": "markdown",
   "metadata": {},
   "source": [
    "# Evaluate checkpoint"
   ]
  },
  {
   "cell_type": "code",
   "execution_count": null,
   "metadata": {},
   "outputs": [],
   "source": [
    "def load_checkpoint(results_dir, checkpoint_num=None):\n",
    "    checkpoint_dir = osp.join(results_dir, 'checkpoints')\n",
    "    if checkpoint_num is None:\n",
    "        checkpoint_num = max(os.listdir(checkpoint_dir))\n",
    "    checkpoint_fname = osp.join(checkpoint_dir, checkpoint_num)\n",
    "    print('Loading from ', checkpoint_fname)\n",
    "    policy = joblib.load(checkpoint_fname)\n",
    "    \n",
    "    return policy\n",
    "\n",
    "def ppo_value2(results_dir, rl, env_name, pol_discount, eval_discount, episodes):\n",
    "    _gen_policy, _sample, compute_value = config.RL_ALGORITHMS[rl]\n",
    "    fname = osp.join(results_dir, 'policy.pkl')\n",
    "    print('Loading policy from ', fname)\n",
    "    policy = joblib.load(fname)\n",
    "    env = gym.make(env_name)\n",
    "    \n",
    "    mean, se = compute_value(env, policy, eval_discount, num_episodes=episodes)\n",
    "    print('Rollout value: {:.3f} +/- {:.3f}'.format(mean, 1.96 * se))\n",
    "    return mean, se\n",
    "\n",
    "def ppo_value(policy, env_name, episodes, seed=1234):\n",
    "    _, _, compute_value = config.RL_ALGORITHMS['ppo_cts']\n",
    "    env = gym.make(env_name)\n",
    "    mean, se = compute_value(env, policy, 1.00, num_episodes=episodes, seed=seed)\n",
    "    print('Rollout value: {:.3f} +/- {:.3f}'.format(mean, 1.96 * se))"
   ]
  },
  {
   "cell_type": "code",
   "execution_count": null,
   "metadata": {},
   "outputs": [],
   "source": [
    "policy = load_checkpoint(osp.join(experiment_dir, 'expert/InvertedPendulum-v2/ppo_cts'), '00488')\n",
    "ppo_value(policy, 'InvertedPendulum-v2', 500, 1234)"
   ]
  }
 ],
 "metadata": {
  "kernelspec": {
   "display_name": "Python 3",
   "language": "python",
   "name": "python3"
  },
  "language_info": {
   "codemirror_mode": {
    "name": "ipython",
    "version": 3
   },
   "file_extension": ".py",
   "mimetype": "text/x-python",
   "name": "python",
   "nbconvert_exporter": "python",
   "pygments_lexer": "ipython3",
   "version": "3.6.6"
  }
 },
 "nbformat": 4,
 "nbformat_minor": 2
}
