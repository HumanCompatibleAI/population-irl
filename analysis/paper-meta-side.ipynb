{
 "cells": [
  {
   "cell_type": "markdown",
   "metadata": {},
   "source": [
    "# Setup"
   ]
  },
  {
   "cell_type": "code",
   "execution_count": 1,
   "metadata": {},
   "outputs": [],
   "source": [
    "# Imports\n",
    "import os\n",
    "import os.path as osp\n",
    "\n",
    "import joblib\n",
    "import numpy as np\n",
    "import gym\n",
    "import pandas as pd\n",
    "import matplotlib.pyplot as plt\n",
    "\n",
    "import pirl\n",
    "from pirl import config, experiments\n",
    "\n",
    "from analysis import common"
   ]
  },
  {
   "cell_type": "code",
   "execution_count": 18,
   "metadata": {},
   "outputs": [],
   "source": [
    "# Config\n",
    "experiment_dirs = ['../data/experiments/mountain-car-side-metalearn-20180706_154854-d25020c6f85e7b10775b5e3972eacceebfe9b6af/',\n",
    "                   #'../data/experiments/mountain-car-single-20180602_181226-f65f8e7a43b2f5b2703845e1386d8233e59371ba/',\n",
    "                  ]"
   ]
  },
  {
   "cell_type": "markdown",
   "metadata": {},
   "source": [
    "# Value difference"
   ]
  },
  {
   "cell_type": "code",
   "execution_count": 19,
   "metadata": {},
   "outputs": [],
   "source": [
    "algo_pattern = '(.*)'\n",
    "env_pattern = '(.*)'\n",
    "dfs = [common.load_value(x, algo_pattern, env_pattern)\n",
    "       for x in experiment_dirs]\n",
    "df = pd.concat(dfs, axis=0)\n",
    "values = common.aggregate_value(df)\n",
    "ci = common.plot_ci(values)"
   ]
  },
  {
   "cell_type": "code",
   "execution_count": 60,
   "metadata": {},
   "outputs": [
    {
     "data": {
      "text/html": [
       "<div>\n",
       "<style scoped>\n",
       "    .dataframe tbody tr th:only-of-type {\n",
       "        vertical-align: middle;\n",
       "    }\n",
       "\n",
       "    .dataframe tbody tr th {\n",
       "        vertical-align: top;\n",
       "    }\n",
       "\n",
       "    .dataframe thead th {\n",
       "        text-align: right;\n",
       "    }\n",
       "</style>\n",
       "<table border=\"1\" class=\"dataframe\">\n",
       "  <thead>\n",
       "    <tr style=\"text-align: right;\">\n",
       "      <th></th>\n",
       "      <th></th>\n",
       "      <th></th>\n",
       "      <th></th>\n",
       "      <th>airl random short</th>\n",
       "      <th>airl so short</th>\n",
       "      <th>airlp random short</th>\n",
       "      <th>airlp so separate short</th>\n",
       "      <th>ppo cts short</th>\n",
       "      <th>expert</th>\n",
       "    </tr>\n",
       "    <tr>\n",
       "      <th>env</th>\n",
       "      <th>n</th>\n",
       "      <th>m</th>\n",
       "      <th>eval</th>\n",
       "      <th></th>\n",
       "      <th></th>\n",
       "      <th></th>\n",
       "      <th></th>\n",
       "      <th></th>\n",
       "      <th></th>\n",
       "    </tr>\n",
       "  </thead>\n",
       "  <tbody>\n",
       "    <tr>\n",
       "      <th rowspan=\"6\" valign=\"top\">pirl/MountainCarContinuous-2-left-target-0-0.05-v0</th>\n",
       "      <th rowspan=\"6\" valign=\"top\">100</th>\n",
       "      <th rowspan=\"2\" valign=\"top\">1</th>\n",
       "      <th>irl</th>\n",
       "      <td>-498.14</td>\n",
       "      <td>81.83</td>\n",
       "      <td>73.77</td>\n",
       "      <td>82.51</td>\n",
       "      <td>92.75</td>\n",
       "      <td>92.75</td>\n",
       "    </tr>\n",
       "    <tr>\n",
       "      <th>ppo_cts_short</th>\n",
       "      <td>84.67</td>\n",
       "      <td>81.03</td>\n",
       "      <td>76.90</td>\n",
       "      <td>70.78</td>\n",
       "      <td>92.75</td>\n",
       "      <td>92.75</td>\n",
       "    </tr>\n",
       "    <tr>\n",
       "      <th rowspan=\"2\" valign=\"top\">5</th>\n",
       "      <th>irl</th>\n",
       "      <td>-503.98</td>\n",
       "      <td>82.88</td>\n",
       "      <td>80.19</td>\n",
       "      <td>80.94</td>\n",
       "      <td>92.75</td>\n",
       "      <td>92.75</td>\n",
       "    </tr>\n",
       "    <tr>\n",
       "      <th>ppo_cts_short</th>\n",
       "      <td>78.97</td>\n",
       "      <td>82.18</td>\n",
       "      <td>76.33</td>\n",
       "      <td>35.20</td>\n",
       "      <td>92.75</td>\n",
       "      <td>92.75</td>\n",
       "    </tr>\n",
       "    <tr>\n",
       "      <th rowspan=\"2\" valign=\"top\">100</th>\n",
       "      <th>irl</th>\n",
       "      <td>-510.58</td>\n",
       "      <td>76.43</td>\n",
       "      <td>81.53</td>\n",
       "      <td>81.32</td>\n",
       "      <td>92.75</td>\n",
       "      <td>92.75</td>\n",
       "    </tr>\n",
       "    <tr>\n",
       "      <th>ppo_cts_short</th>\n",
       "      <td>81.72</td>\n",
       "      <td>81.54</td>\n",
       "      <td>72.34</td>\n",
       "      <td>79.41</td>\n",
       "      <td>92.75</td>\n",
       "      <td>92.75</td>\n",
       "    </tr>\n",
       "    <tr>\n",
       "      <th rowspan=\"6\" valign=\"top\">pirl/MountainCarContinuous-2-right-target-0-0.05-v0</th>\n",
       "      <th rowspan=\"6\" valign=\"top\">100</th>\n",
       "      <th rowspan=\"2\" valign=\"top\">1</th>\n",
       "      <th>irl</th>\n",
       "      <td>-485.92</td>\n",
       "      <td>82.08</td>\n",
       "      <td>81.96</td>\n",
       "      <td>22.80</td>\n",
       "      <td>93.22</td>\n",
       "      <td>93.22</td>\n",
       "    </tr>\n",
       "    <tr>\n",
       "      <th>ppo_cts_short</th>\n",
       "      <td>82.14</td>\n",
       "      <td>77.54</td>\n",
       "      <td>80.64</td>\n",
       "      <td>81.51</td>\n",
       "      <td>93.22</td>\n",
       "      <td>93.22</td>\n",
       "    </tr>\n",
       "    <tr>\n",
       "      <th rowspan=\"2\" valign=\"top\">5</th>\n",
       "      <th>irl</th>\n",
       "      <td>-501.89</td>\n",
       "      <td>82.68</td>\n",
       "      <td>84.68</td>\n",
       "      <td>79.20</td>\n",
       "      <td>93.22</td>\n",
       "      <td>93.22</td>\n",
       "    </tr>\n",
       "    <tr>\n",
       "      <th>ppo_cts_short</th>\n",
       "      <td>83.03</td>\n",
       "      <td>83.28</td>\n",
       "      <td>83.22</td>\n",
       "      <td>79.44</td>\n",
       "      <td>93.22</td>\n",
       "      <td>93.22</td>\n",
       "    </tr>\n",
       "    <tr>\n",
       "      <th rowspan=\"2\" valign=\"top\">100</th>\n",
       "      <th>irl</th>\n",
       "      <td>-496.74</td>\n",
       "      <td>79.75</td>\n",
       "      <td>82.42</td>\n",
       "      <td>77.08</td>\n",
       "      <td>93.22</td>\n",
       "      <td>93.22</td>\n",
       "    </tr>\n",
       "    <tr>\n",
       "      <th>ppo_cts_short</th>\n",
       "      <td>85.14</td>\n",
       "      <td>79.43</td>\n",
       "      <td>80.87</td>\n",
       "      <td>81.00</td>\n",
       "      <td>93.22</td>\n",
       "      <td>93.22</td>\n",
       "    </tr>\n",
       "  </tbody>\n",
       "</table>\n",
       "</div>"
      ],
      "text/plain": [
       "                                                                          airl random short  airl so short  airlp random short  airlp so separate short  ppo cts short  expert\n",
       "env                                                n   m   eval                                                                                                               \n",
       "pirl/MountainCarContinuous-2-left-target-0-0.05-v0 100 1   irl                      -498.14          81.83               73.77                    82.51          92.75   92.75\n",
       "                                                           ppo_cts_short              84.67          81.03               76.90                    70.78          92.75   92.75\n",
       "                                                       5   irl                      -503.98          82.88               80.19                    80.94          92.75   92.75\n",
       "                                                           ppo_cts_short              78.97          82.18               76.33                    35.20          92.75   92.75\n",
       "                                                       100 irl                      -510.58          76.43               81.53                    81.32          92.75   92.75\n",
       "                                                           ppo_cts_short              81.72          81.54               72.34                    79.41          92.75   92.75\n",
       "pirl/MountainCarContinuous-2-right-target-0-0.0... 100 1   irl                      -485.92          82.08               81.96                    22.80          93.22   93.22\n",
       "                                                           ppo_cts_short              82.14          77.54               80.64                    81.51          93.22   93.22\n",
       "                                                       5   irl                      -501.89          82.68               84.68                    79.20          93.22   93.22\n",
       "                                                           ppo_cts_short              83.03          83.28               83.22                    79.44          93.22   93.22\n",
       "                                                       100 irl                      -496.74          79.75               82.42                    77.08          93.22   93.22\n",
       "                                                           ppo_cts_short              85.14          79.43               80.87                    81.00          93.22   93.22"
      ]
     },
     "execution_count": 60,
     "metadata": {},
     "output_type": "execute_result"
    }
   ],
   "source": [
    "idx = (df.index.get_level_values('seed') <= 4) & (df.index.get_level_values('m').isin([1,5,100]))\n",
    "df.loc[idx].xs('mean', level='type').groupby(['env', 'n', 'm', 'eval']).max()\n"
   ]
  },
  {
   "cell_type": "code",
   "execution_count": 31,
   "metadata": {},
   "outputs": [
    {
     "data": {
      "text/html": [
       "<div>\n",
       "<style scoped>\n",
       "    .dataframe tbody tr th:only-of-type {\n",
       "        vertical-align: middle;\n",
       "    }\n",
       "\n",
       "    .dataframe tbody tr th {\n",
       "        vertical-align: top;\n",
       "    }\n",
       "\n",
       "    .dataframe thead th {\n",
       "        text-align: right;\n",
       "    }\n",
       "</style>\n",
       "<table border=\"1\" class=\"dataframe\">\n",
       "  <thead>\n",
       "    <tr style=\"text-align: right;\">\n",
       "      <th></th>\n",
       "      <th>airl random short</th>\n",
       "      <th>airl so short</th>\n",
       "      <th>airlp random short</th>\n",
       "      <th>airlp so separate short</th>\n",
       "      <th>ppo cts short</th>\n",
       "      <th>expert</th>\n",
       "    </tr>\n",
       "    <tr>\n",
       "      <th>env</th>\n",
       "      <th></th>\n",
       "      <th></th>\n",
       "      <th></th>\n",
       "      <th></th>\n",
       "      <th></th>\n",
       "      <th></th>\n",
       "    </tr>\n",
       "  </thead>\n",
       "  <tbody>\n",
       "    <tr>\n",
       "      <th>pirl/MountainCarContinuous-2-left-target-0-0.05-v0</th>\n",
       "      <td>84.67</td>\n",
       "      <td>81.38</td>\n",
       "      <td>76.90</td>\n",
       "      <td>81.65</td>\n",
       "      <td>93.46</td>\n",
       "      <td>93.46</td>\n",
       "    </tr>\n",
       "    <tr>\n",
       "      <th>pirl/MountainCarContinuous-2-right-target-0-0.05-v0</th>\n",
       "      <td>82.84</td>\n",
       "      <td>80.45</td>\n",
       "      <td>82.03</td>\n",
       "      <td>81.65</td>\n",
       "      <td>93.68</td>\n",
       "      <td>93.68</td>\n",
       "    </tr>\n",
       "  </tbody>\n",
       "</table>\n",
       "</div>"
      ],
      "text/plain": [
       "                                                    airl random short  airl so short  airlp random short  airlp so separate short  ppo cts short  expert\n",
       "env                                                                                                                                                     \n",
       "pirl/MountainCarContinuous-2-left-target-0-0.05-v0              84.67          81.38               76.90                    81.65          93.46   93.46\n",
       "pirl/MountainCarContinuous-2-right-target-0-0.0...              82.84          80.45               82.03                    81.65          93.68   93.68"
      ]
     },
     "execution_count": 31,
     "metadata": {},
     "output_type": "execute_result"
    }
   ],
   "source": [
    "df.xs('mean', level='type').xs(1, level ='m').xs('ppo_cts_short', level='eval').groupby(['env']).max()"
   ]
  },
  {
   "cell_type": "markdown",
   "metadata": {},
   "source": [
    "# Figures"
   ]
  },
  {
   "cell_type": "code",
   "execution_count": 151,
   "metadata": {},
   "outputs": [],
   "source": [
    "import collections\n",
    "\n",
    "pretty_envs = {\n",
    "    'pirl/MountainCarContinuous-2-left-target-0-0.05-v0': 'Left',\n",
    "    'pirl/MountainCarContinuous-2-right-target-0-0.05-v0': 'Right',\n",
    "}\n",
    "\n",
    "pretty_algos = collections.OrderedDict([\n",
    "    ('airl random short', 'SR'),\n",
    "    ('airl so short', 'SP'),\n",
    "    ('airlp random short', 'MR'),\n",
    "    ('airlp so separate short', 'MP'),\n",
    "    ('ppo cts short', 'PPO'),\n",
    "])\n",
    "\n",
    "pretty_eval = {\n",
    "    'irl': 'IRL',\n",
    "    'ppo_cts_short': 'Reoptimized',\n",
    "}\n",
    "\n",
    "eval_algos = {\n",
    "    'IRL': ['SP', 'MR', 'MP', 'PPO'],\n",
    "    'Reoptimized': ['SR', 'SP', 'MR', 'MP', 'PPO'],\n",
    "}\n",
    "\n",
    "best_of_seeds = 5\n",
    "ms = [1, 5, 100]\n",
    "\n",
    "figs_dir = osp.join('../../population-irl-paper', 'figs')"
   ]
  },
  {
   "cell_type": "code",
   "execution_count": 183,
   "metadata": {},
   "outputs": [
    {
     "data": {
      "image/png": "[encoded data removed]",
      "text/plain": [
       "<Figure size 486x162 with 2 Axes>"
      ]
     },
     "metadata": {},
     "output_type": "display_data"
    },
    {
     "data": {
      "image/png": "[encoded data removed]",
      "text/plain": [
       "<Figure size 486x162 with 2 Axes>"
      ]
     },
     "metadata": {},
     "output_type": "display_data"
    }
   ],
   "source": [
    "# Filter\n",
    "idx = ((df.index.get_level_values('seed') < best_of_seeds) & \n",
    "       (df.index.get_level_values('m').isin(ms)))\n",
    "val = df.loc[idx]\n",
    "# Take maximum across seeds\n",
    "val = val.stack().unstack('seed').max(axis=1).unstack(-1)\n",
    "# n should be fixed, get rid of it\n",
    "val.index = val.index.droplevel('n')\n",
    "assert val.index.is_unique\n",
    "\n",
    "val = val.rename(columns=pretty_algos).loc[:, list(pretty_algos.values())]\n",
    "val = val.rename(index=pretty_envs, level=0).loc[list(pretty_envs.values()), :]\n",
    "val = val.rename(index=pretty_eval, level='eval')\n",
    "\n",
    "with plt.style.context([common.style('default'), common.style('twocol')]):\n",
    "    xs = []\n",
    "    for eval_type, algos in eval_algos.items():\n",
    "        xs.append(val.loc[val.index.get_level_values('eval') == eval_type, algos])\n",
    "    subset = pd.concat(xs, sort=False).loc[:, list(pretty_algos.values())]\n",
    "    for env in pretty_envs.values():\n",
    "        y = subset.xs(env, level='env')\n",
    "        fig = common.value_multi_bar_chart(y, level='eval', relative='PPO', \n",
    "                                           whisker_lw=0)\n",
    "        out_path = osp.join(figs_dir, 'mountaincar', 'side_{}.pdf'.format(env))\n",
    "        fig.savefig(out_path, bbox_inches='tight')"
   ]
  },
  {
   "cell_type": "markdown",
   "metadata": {},
   "source": [
    "# Policy rollout"
   ]
  },
  {
   "cell_type": "code",
   "execution_count": null,
   "metadata": {},
   "outputs": [],
   "source": [
    "def expert_cached_value(rl, env_name, pol_discount=0.99, eval_discount=1.00, seed=1234, episodes=100):\n",
    "    '''Rollout a cached expert policy for episodes.\n",
    "       WARNING: This will be slow or just break if policy is not in cache!'''\n",
    "    gen_policy, _sample, compute_value = config.RL_ALGORITHMS[rl]\n",
    "    policy, value = experiments._train_policy(rl, pol_discount, env_name, seed, None)\n",
    "    vmean, vse = value\n",
    "    print('Cached value: {:.3f} +/- {:.3f}'.format(vmean, 1.96 * vse))\n",
    "    \n",
    "    env = gym.make(env_name)\n",
    "    rmean, rse = compute_value(env, policy, eval_discount, num_episodes=episodes, seed=seed)\n",
    "    print('Rollout value: {:.3f} +/- {:.3f}'.format(rmean, 1.96 * rse))\n",
    "    return (vmean, vse), (rmean, rse)\n",
    "\n",
    "def _policy_value(results_dir, rl, env_name, pol_discount, eval_discount, episodes, seed):\n",
    "    _gen_policy, _sample, compute_value = config.RL_ALGORITHMS[rl]\n",
    "    fname = osp.join(results_dir, 'policy.pkl')\n",
    "    print('Loading policy from ', fname)\n",
    "    policy = joblib.load(fname)\n",
    "    env = gym.make(env_name)\n",
    "    \n",
    "    mean, se = compute_value(env, policy, eval_discount, num_episodes=episodes, seed=seed)\n",
    "    print('Rollout value: {:.3f} +/- {:.3f}'.format(mean, 1.96 * se))\n",
    "    return mean, se\n",
    "\n",
    "def expert_value(experiment_dir, rl, env_name, pol_discount=0.99, eval_discount=1.00, episodes=100, seed=1234):\n",
    "    results_dir = osp.join(experiment_dir, 'expert', env_name, rl)\n",
    "    return _policy_value(results_dir, rl, env_name, pol_discount, eval_discount, episodes, seed)\n",
    "\n",
    "def irl_eval_value(experiment_dir, irl_name, num_traj, rl, env_name, pol_discount=0.99, eval_discount=1.00, episodes=100, seed=1234):\n",
    "    results_dir = osp.join(experiment_dir, 'eval', env_name, \n",
    "                           '{}:{}:{}'.format(irl_name, num_traj, num_traj), rl)\n",
    "    return _policy_value(results_dir, rl, env_name, pol_discount, eval_discount, episodes, seed)\n",
    "    \n",
    "def irl_value(experiment_dir, irl_name, env_name, num_traj, eval_discount=1.00, episodes=100):\n",
    "    _irl_algo, _reward_wrapper, compute_value = experiments.make_irl_algo(irl_name)\n",
    "    irl_dir = osp.join(experiment_dir, 'irl', irl_name)\n",
    "    if not os.path.exists(irl_dir):\n",
    "        raise FileNotFoundError(\"No result directory {}\".format(irl_dir))\n",
    "    \n",
    "    pop_fname = osp.join(irl_dir, str(num_traj), 'policies.pkl')\n",
    "    sin_fname = osp.join(irl_dir, env_name, str(num_traj), 'policy.pkl')\n",
    "    if os.path.exists(pop_fname):\n",
    "        policies = joblib.load(pop_fname)\n",
    "        print(policies.keys())\n",
    "        policy = policies[env_name]\n",
    "    elif os.path.exists(sin_fname):\n",
    "        policy = joblib.load(sin_fname)\n",
    "    else:\n",
    "        raise FileNotFoundError(\"Neither {} or {} exists\".format(pop_fname, sin_fname))\n",
    "    \n",
    "    env = gym.make(env_name)\n",
    "    mean, se = compute_value(env, policy, discount=eval_discount, num_episodes=episodes)\n",
    "    print('Rollout value: {} +/- {}'.format(mean, 1.96 * se))"
   ]
  },
  {
   "cell_type": "code",
   "execution_count": null,
   "metadata": {},
   "outputs": [],
   "source": [
    "expert_cached_value('ppo_cts', 'Reacher-v2', episodes=100)"
   ]
  },
  {
   "cell_type": "code",
   "execution_count": null,
   "metadata": {},
   "outputs": [],
   "source": [
    "expert_value(experiment_dir, 'ppo_cts', 'Reacher-v2', episodes=500, seed=1234)"
   ]
  },
  {
   "cell_type": "code",
   "execution_count": null,
   "metadata": {},
   "outputs": [],
   "source": [
    "irl_value(experiment_dir, 'airl', 'Reacher-v2', 1000, episodes=100)"
   ]
  },
  {
   "cell_type": "markdown",
   "metadata": {},
   "source": [
    "# Visualizing rewards (gridworld only)"
   ]
  },
  {
   "cell_type": "code",
   "execution_count": null,
   "metadata": {},
   "outputs": [],
   "source": [
    "def show_heatmaps(irl_algo, kind='inline', out_dir=None, shape=(9,9), **kwargs):\n",
    "    data = pd.read_pickle(osp.join(experiment_dir, 'results.pkl'))\n",
    "    rewards = data['rewards'][irl_algo]\n",
    "    if kind in ['inline', 'pdf']:\n",
    "        figs = common.gridworld_heatmap(rewards, shape)\n",
    "        if out_dir is None:\n",
    "            for fig in figs:\n",
    "                display(fig[1])\n",
    "        else:\n",
    "            common.save_figs(figs, out_dir)\n",
    "    elif kind == 'movie':\n",
    "        common.gridworld_heatmap_movie(out_dir, rewards, shape)\n",
    "    else:\n",
    "        assert False"
   ]
  },
  {
   "cell_type": "code",
   "execution_count": null,
   "metadata": {},
   "outputs": [],
   "source": [
    "irl_algos = ['mce', 'mcep_reg1e0']\n",
    "for irl in irl_algos:\n",
    "    show_heatmaps(irl, kind='inline', shape=(4,4))\n",
    "    #show_heatmaps(irl, kind='movie', out_dir='figs/jungle/movies/' + irl)\n",
    "    #show_heatmaps(irl, kind='movie', out_dir='figs/jungle/' + irl)"
   ]
  },
  {
   "cell_type": "markdown",
   "metadata": {},
   "source": [
    "# Loss curve (PPO only)"
   ]
  },
  {
   "cell_type": "code",
   "execution_count": null,
   "metadata": {},
   "outputs": [],
   "source": [
    "def ppo_progress(results_dir):\n",
    "    path = osp.join(results_dir, 'progress.csv')\n",
    "    df = pd.read_csv(path)\n",
    "    df = df.set_index('serial_timesteps')\n",
    "    return df\n",
    "\n",
    "def expert_ppo_progress(experiment_dir, env_name, rl_name):\n",
    "    results_dir = osp.join(experiment_dir, 'expert', \n",
    "                       experiments.sanitize_env_name(env_name),\n",
    "                       rl_name)\n",
    "    return ppo_progress(results_dir)"
   ]
  },
  {
   "cell_type": "code",
   "execution_count": null,
   "metadata": {},
   "outputs": [],
   "source": [
    "envs = ['InvertedPendulum-v2', 'InvertedDoublePendulum-v2', 'Reacher-v2']\n",
    "for env in envs:\n",
    "    df = expert_ppo_progress(experiment_dir, env, 'ppo_cts')\n",
    "    plt.figure()\n",
    "    df['eprewmean'].plot()\n",
    "    print(df['eprewmean'].max())\n",
    "    plt.title(env)"
   ]
  },
  {
   "cell_type": "markdown",
   "metadata": {},
   "source": [
    "# Evaluate checkpoint"
   ]
  },
  {
   "cell_type": "code",
   "execution_count": null,
   "metadata": {},
   "outputs": [],
   "source": [
    "def load_checkpoint(results_dir, checkpoint_num=None):\n",
    "    checkpoint_dir = osp.join(results_dir, 'checkpoints')\n",
    "    if checkpoint_num is None:\n",
    "        checkpoint_num = max(os.listdir(checkpoint_dir))\n",
    "    checkpoint_fname = osp.join(checkpoint_dir, checkpoint_num)\n",
    "    print('Loading from ', checkpoint_fname)\n",
    "    policy = joblib.load(checkpoint_fname)\n",
    "    \n",
    "    return policy\n",
    "\n",
    "def ppo_value2(results_dir, rl, env_name, pol_discount, eval_discount, episodes):\n",
    "    _gen_policy, _sample, compute_value = config.RL_ALGORITHMS[rl]\n",
    "    fname = osp.join(results_dir, 'policy.pkl')\n",
    "    print('Loading policy from ', fname)\n",
    "    policy = joblib.load(fname)\n",
    "    env = gym.make(env_name)\n",
    "    \n",
    "    mean, se = compute_value(env, policy, eval_discount, num_episodes=episodes)\n",
    "    print('Rollout value: {:.3f} +/- {:.3f}'.format(mean, 1.96 * se))\n",
    "    return mean, se\n",
    "\n",
    "def ppo_value(policy, env_name, episodes, seed=1234):\n",
    "    _, _, compute_value = config.RL_ALGORITHMS['ppo_cts']\n",
    "    env = gym.make(env_name)\n",
    "    mean, se = compute_value(env, policy, 1.00, num_episodes=episodes, seed=seed)\n",
    "    print('Rollout value: {:.3f} +/- {:.3f}'.format(mean, 1.96 * se))"
   ]
  },
  {
   "cell_type": "code",
   "execution_count": null,
   "metadata": {},
   "outputs": [],
   "source": [
    "policy = load_checkpoint(osp.join(experiment_dir, 'expert/InvertedPendulum-v2/ppo_cts'), '00488')\n",
    "ppo_value(policy, 'InvertedPendulum-v2', 500, 1234)"
   ]
  }
 ],
 "metadata": {
  "kernelspec": {
   "display_name": "Python 3",
   "language": "python",
   "name": "python3"
  },
  "language_info": {
   "codemirror_mode": {
    "name": "ipython",
    "version": 3
   },
   "file_extension": ".py",
   "mimetype": "text/x-python",
   "name": "python",
   "nbconvert_exporter": "python",
   "pygments_lexer": "ipython3",
   "version": "3.6.6"
  }
 },
 "nbformat": 4,
 "nbformat_minor": 2
}
