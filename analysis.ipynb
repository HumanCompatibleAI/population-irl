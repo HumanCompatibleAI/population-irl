{
 "cells": [
  {
   "cell_type": "markdown",
   "metadata": {},
   "source": [
    "# Setup"
   ]
  },
  {
   "cell_type": "code",
   "execution_count": 1,
   "metadata": {},
   "outputs": [],
   "source": [
    "# Imports\n",
    "import os\n",
    "\n",
    "import numpy as np\n",
    "import pandas as pd\n",
    "import matplotlib.pyplot as plt\n",
    "\n",
    "import pirl\n",
    "from pirl.experiments import plots as myplots"
   ]
  },
  {
   "cell_type": "code",
   "execution_count": 2,
   "metadata": {},
   "outputs": [],
   "source": [
    "#fname = 'data/dummy-continuous-test-20180415_141724-985942a929fb59662e9b754a67230d5d3017b0e6/results.pkl'\n",
    "fname = 'data/dummy-test-20180415_123939-985942a929fb59662e9b754a67230d5d3017b0e6/results.pkl'\n",
    "data = pd.read_pickle(fname)"
   ]
  },
  {
   "cell_type": "markdown",
   "metadata": {},
   "source": [
    "# Value difference"
   ]
  },
  {
   "cell_type": "code",
   "execution_count": 3,
   "metadata": {},
   "outputs": [
    {
     "data": {
      "text/html": [
       "<div>\n",
       "<style scoped>\n",
       "    .dataframe tbody tr th:only-of-type {\n",
       "        vertical-align: middle;\n",
       "    }\n",
       "\n",
       "    .dataframe tbody tr th {\n",
       "        vertical-align: top;\n",
       "    }\n",
       "\n",
       "    .dataframe thead th {\n",
       "        text-align: right;\n",
       "    }\n",
       "</style>\n",
       "<table border=\"1\" class=\"dataframe\">\n",
       "  <thead>\n",
       "    <tr style=\"text-align: right;\">\n",
       "      <th></th>\n",
       "      <th></th>\n",
       "      <th></th>\n",
       "      <th></th>\n",
       "      <th>irl</th>\n",
       "      <th>expert</th>\n",
       "      <th>mces</th>\n",
       "      <th>mcep reg0</th>\n",
       "    </tr>\n",
       "    <tr>\n",
       "      <th>env</th>\n",
       "      <th>n</th>\n",
       "      <th>m</th>\n",
       "      <th>eval</th>\n",
       "      <th>type</th>\n",
       "      <th></th>\n",
       "      <th></th>\n",
       "      <th></th>\n",
       "    </tr>\n",
       "  </thead>\n",
       "  <tbody>\n",
       "    <tr>\n",
       "      <th rowspan=\"8\" valign=\"top\">Simple</th>\n",
       "      <th>10</th>\n",
       "      <th>10</th>\n",
       "      <th>irl</th>\n",
       "      <th>mean</th>\n",
       "      <td>4084.16</td>\n",
       "      <td>4049.59</td>\n",
       "      <td>4049.59</td>\n",
       "    </tr>\n",
       "    <tr>\n",
       "      <th>20</th>\n",
       "      <th>20</th>\n",
       "      <th>irl</th>\n",
       "      <th>mean</th>\n",
       "      <td>4084.16</td>\n",
       "      <td>4065.60</td>\n",
       "      <td>4065.60</td>\n",
       "    </tr>\n",
       "    <tr>\n",
       "      <th>10</th>\n",
       "      <th>10</th>\n",
       "      <th>value_iteration</th>\n",
       "      <th>mean</th>\n",
       "      <td>4084.16</td>\n",
       "      <td>14744.48</td>\n",
       "      <td>14744.48</td>\n",
       "    </tr>\n",
       "    <tr>\n",
       "      <th>20</th>\n",
       "      <th>20</th>\n",
       "      <th>value_iteration</th>\n",
       "      <th>mean</th>\n",
       "      <td>4084.16</td>\n",
       "      <td>11012.37</td>\n",
       "      <td>11012.37</td>\n",
       "    </tr>\n",
       "    <tr>\n",
       "      <th>10</th>\n",
       "      <th>10</th>\n",
       "      <th>irl</th>\n",
       "      <th>se</th>\n",
       "      <td>0.00</td>\n",
       "      <td>0.00</td>\n",
       "      <td>0.00</td>\n",
       "    </tr>\n",
       "    <tr>\n",
       "      <th>20</th>\n",
       "      <th>20</th>\n",
       "      <th>irl</th>\n",
       "      <th>se</th>\n",
       "      <td>0.00</td>\n",
       "      <td>0.00</td>\n",
       "      <td>0.00</td>\n",
       "    </tr>\n",
       "    <tr>\n",
       "      <th>10</th>\n",
       "      <th>10</th>\n",
       "      <th>value_iteration</th>\n",
       "      <th>se</th>\n",
       "      <td>0.00</td>\n",
       "      <td>0.00</td>\n",
       "      <td>0.00</td>\n",
       "    </tr>\n",
       "    <tr>\n",
       "      <th>20</th>\n",
       "      <th>20</th>\n",
       "      <th>value_iteration</th>\n",
       "      <th>se</th>\n",
       "      <td>0.00</td>\n",
       "      <td>0.00</td>\n",
       "      <td>0.00</td>\n",
       "    </tr>\n",
       "  </tbody>\n",
       "</table>\n",
       "</div>"
      ],
      "text/plain": [
       "irl                                 expert      mces  mcep reg0\n",
       "env    n  m  eval            type                              \n",
       "Simple 10 10 irl             mean  4084.16   4049.59    4049.59\n",
       "       20 20 irl             mean  4084.16   4065.60    4065.60\n",
       "       10 10 value_iteration mean  4084.16  14744.48   14744.48\n",
       "       20 20 value_iteration mean  4084.16  11012.37   11012.37\n",
       "       10 10 irl             se       0.00      0.00       0.00\n",
       "       20 20 irl             se       0.00      0.00       0.00\n",
       "       10 10 value_iteration se       0.00      0.00       0.00\n",
       "       20 20 value_iteration se       0.00      0.00       0.00"
      ]
     },
     "execution_count": 3,
     "metadata": {},
     "output_type": "execute_result"
    }
   ],
   "source": [
    "def plot_value(data, algo_pattern='(.*)', env_pattern='(.*)', algos=['.*'], dps=2):\n",
    "    value = myplots.extract_value(data)\n",
    "    value.columns = value.columns.str.extract(algo_pattern, expand=False)\n",
    "    envs = value.index.levels[0].str.extract(env_pattern, expand=False)\n",
    "    value.index = value.index.set_levels(envs, level=0)\n",
    "    \n",
    "    matches = []\n",
    "    mask = pd.Series(False, index=value.columns)\n",
    "    for p in algos:\n",
    "        m = value.columns.str.match(p)\n",
    "        matches += list(value.columns[m & (~mask)])\n",
    "        mask |= m\n",
    "    value = value.loc[:, matches]\n",
    "    \n",
    "    value.columns = value.columns.str.split('_').str.join(' ')  # so lines wrap\n",
    "    value = value.round(dps)\n",
    "    return value\n",
    "    \n",
    "algo_pattern = '(.*)'\n",
    "env_pattern = 'pirl/GridWorld-(Simple)-v0'\n",
    "plot_value(data, algo_pattern, env_pattern, ['expert', 'mces', 'mcep.*'])"
   ]
  },
  {
   "cell_type": "markdown",
   "metadata": {},
   "source": [
    "# Visualizing rewards (gridworld only)"
   ]
  },
  {
   "cell_type": "code",
   "execution_count": 4,
   "metadata": {},
   "outputs": [
    {
     "name": "stderr",
     "output_type": "stream",
     "text": [
      "/home/adam/bin/anaconda3/envs/mypirl/lib/python3.6/site-packages/matplotlib/font_manager.py:1328: UserWarning: findfont: Font family [\"'serif'\"] not found. Falling back to DejaVu Sans\n",
      "  (prop.get_family(), self.defaultFamily[fontext]))\n"
     ]
    },
    {
     "data": {
      "image/png": "[encoded data removed]",
      "text/plain": [
       "<Figure size 835.2x619.2 with 6 Axes>"
      ]
     },
     "metadata": {},
     "output_type": "display_data"
    }
   ],
   "source": [
    "shape = (4,4)\n",
    "irl_algo = 'mces'\n",
    "figs = myplots.gridworld_heatmap(data['rewards'][irl_algo], shape)\n",
    "for fig in figs:\n",
    "    display(fig[1])"
   ]
  },
  {
   "cell_type": "code",
   "execution_count": null,
   "metadata": {},
   "outputs": [],
   "source": [
    "# Save to disk\n",
    "out_dir = './figs/some-experiment'\n",
    "for k, v in data['reward'].items():\n",
    "    pirl.experiments.plots.save_figs(pirl.experiments.plots.gridworld_heatmap(v, (4,4)), os.path.join(out_dir, k))"
   ]
  }
 ],
 "metadata": {
  "kernelspec": {
   "display_name": "Python 3",
   "language": "python",
   "name": "python3"
  },
  "language_info": {
   "codemirror_mode": {
    "name": "ipython",
    "version": 3
   },
   "file_extension": ".py",
   "mimetype": "text/x-python",
   "name": "python",
   "nbconvert_exporter": "python",
   "pygments_lexer": "ipython3",
   "version": "3.6.5"
  }
 },
 "nbformat": 4,
 "nbformat_minor": 2
}
