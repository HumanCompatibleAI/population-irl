{
 "cells": [
  {
   "cell_type": "markdown",
   "metadata": {},
   "source": [
    "# Setup"
   ]
  },
  {
   "cell_type": "code",
   "execution_count": null,
   "metadata": {},
   "outputs": [],
   "source": [
    "# Imports\n",
    "import os\n",
    "\n",
    "import numpy as np\n",
    "import pandas as pd\n",
    "import matplotlib.pyplot as plt\n",
    "\n",
    "import pirl\n",
    "from pirl.experiments import plots as myplots"
   ]
  },
  {
   "cell_type": "code",
   "execution_count": null,
   "metadata": {},
   "outputs": [],
   "source": [
    "fname = 'data/few-jungle-20180326_163501-7893bc.pkl'\n",
    "data = pd.read_pickle(fname)"
   ]
  },
  {
   "cell_type": "markdown",
   "metadata": {},
   "source": [
    "# Value difference"
   ]
  },
  {
   "cell_type": "code",
   "execution_count": null,
   "metadata": {},
   "outputs": [],
   "source": [
    "def plot_value(data, kind, algo_pattern='(.*)', env_pattern='(.*)', algos=['.*'], dps=2):\n",
    "    value = myplots.extract_value(data)[kind]\n",
    "    value.items.name = 'Algorithm'\n",
    "    value.major_axis.name = 'Environment'\n",
    "    value.minor_axis.name = 'Trajectories'\n",
    "    value.items = value.items.str.extract(algo_pattern, expand=False)\n",
    "    value.major_axis = value.major_axis.str.extract(env_pattern, expand=False)\n",
    "    \n",
    "    matches = []\n",
    "    mask = pd.Series(False, index=value.items)\n",
    "    for p in algos:\n",
    "        m = value.items.str.match(p)\n",
    "        matches += list(value.items[m & (~mask)])\n",
    "        mask |= m\n",
    "    value = value.loc[matches, :, :]\n",
    "    \n",
    "    value.items = value.items.str.split('_').str.join(' ')  # so lines wrap\n",
    "    value = value.to_frame()\n",
    "    value = value.round(dps)\n",
    "    return value\n",
    "    \n",
    "value_kind = 'optimal'\n",
    "algo_pattern = '(.*)'\n",
    "env_pattern = 'pirl/GridWorld-Jungle-9x9-(.*)-v0'\n",
    "plot_value(data, value_kind, algo_pattern, env_pattern, ['ground_truth', 'mces', 'mcep.*'])"
   ]
  },
  {
   "cell_type": "markdown",
   "metadata": {},
   "source": [
    "# Visualizing rewards (gridworld only)"
   ]
  },
  {
   "cell_type": "code",
   "execution_count": null,
   "metadata": {},
   "outputs": [],
   "source": [
    "shape = (9,9)\n",
    "irl_algo = 'mces'\n",
    "figs = myplots.gridworld_heatmap(data['reward'][irl_algo], shape)\n",
    "for fig in figs:\n",
    "    display(fig[1])"
   ]
  },
  {
   "cell_type": "code",
   "execution_count": null,
   "metadata": {},
   "outputs": [],
   "source": [
    "# Save to disk\n",
    "out_dir = './figs/some-experiment'\n",
    "for k, v in data['reward'].items():\n",
    "    pirl.experiments.plots.save_figs(pirl.experiments.plots.gridworld_heatmap(v, (4,4)), os.path.join(out_dir, k))"
   ]
  }
 ],
 "metadata": {
  "kernelspec": {
   "display_name": "Python 3",
   "language": "python",
   "name": "python3"
  },
  "language_info": {
   "codemirror_mode": {
    "name": "ipython",
    "version": 3
   },
   "file_extension": ".py",
   "mimetype": "text/x-python",
   "name": "python",
   "nbconvert_exporter": "python",
   "pygments_lexer": "ipython3",
   "version": "3.6.4"
  }
 },
 "nbformat": 4,
 "nbformat_minor": 2
}
